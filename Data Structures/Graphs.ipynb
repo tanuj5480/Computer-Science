{
 "cells": [
  {
   "cell_type": "code",
   "execution_count": 9,
   "metadata": {},
   "outputs": [
    {
     "name": "stdout",
     "output_type": "stream",
     "text": [
      "Adjacency list of vertex 0\n",
      " head\n",
      " ->4\n",
      " ->1\n",
      " \n",
      "\n",
      "Adjacency list of vertex 1\n",
      " head\n",
      " ->4\n",
      " ->3\n",
      " ->2\n",
      " ->0\n",
      " \n",
      "\n",
      "Adjacency list of vertex 2\n",
      " head\n",
      " ->3\n",
      " ->1\n",
      " \n",
      "\n",
      "Adjacency list of vertex 3\n",
      " head\n",
      " ->4\n",
      " ->2\n",
      " ->1\n",
      " \n",
      "\n",
      "Adjacency list of vertex 4\n",
      " head\n",
      " ->3\n",
      " ->1\n",
      " ->0\n",
      " \n",
      "\n"
     ]
    }
   ],
   "source": [
    "class Node():\n",
    "    def __init__(self, data):\n",
    "        self.vertex = data\n",
    "        self.next = None\n",
    "        \n",
    "        \n",
    "class Graph():\n",
    "    def __init__(self, vertices):\n",
    "        self.V = vertices\n",
    "        self.graph = [None] * self.V\n",
    "        \n",
    "    # function to add edge to an undirected graph\n",
    "    def add_edge(self, src, dest):\n",
    "        \n",
    "        node = Node(dest)\n",
    "        node.next = self.graph[src]\n",
    "        self.graph[src] = node\n",
    "        \n",
    "        node = Node(src)\n",
    "        node.next = self.graph[dest]\n",
    "        self.graph[dest] = node\n",
    "        \n",
    "    def print_graph(self):\n",
    "        for i in range(self.V):\n",
    "            print(\"Adjacency list of vertex {}\\n head\".format(i))\n",
    "            temp = self.graph[i]\n",
    "            while temp:\n",
    "                print(\" ->{}\".format(temp.vertex))\n",
    "                temp = temp.next\n",
    "            print (\" \\n\")\n",
    "        \n",
    "        \n",
    "if __name__ == \"__main__\": \n",
    "    V = 5\n",
    "    graph = Graph(V) \n",
    "    graph.add_edge(0, 1) \n",
    "    graph.add_edge(0, 4) \n",
    "    graph.add_edge(1, 2) \n",
    "    graph.add_edge(1, 3) \n",
    "    graph.add_edge(1, 4) \n",
    "    graph.add_edge(2, 3) \n",
    "    graph.add_edge(3, 4) \n",
    "  \n",
    "    graph.print_graph() \n",
    "        "
   ]
  },
  {
   "cell_type": "markdown",
   "metadata": {},
   "source": [
    "### BFS"
   ]
  },
  {
   "cell_type": "code",
   "execution_count": 21,
   "metadata": {},
   "outputs": [
    {
     "name": "stdout",
     "output_type": "stream",
     "text": [
      "Following is Breadth First Traversal (starting from vertex 0)\n",
      "0\n",
      "1\n",
      "2\n",
      "3\n"
     ]
    }
   ],
   "source": [
    "from collections import defaultdict\n",
    "\n",
    "class Graph():\n",
    "    def __init__(self):\n",
    "        \n",
    "        # default dictionary to store graph \n",
    "        self.graph = defaultdict(list)\n",
    "        \n",
    "    # function to add an edge to graph \n",
    "    def addEdge(self, u,v):\n",
    "        \n",
    "        self.graph[u].append(v)\n",
    "        \n",
    "    def BFS(self, s):\n",
    "        visited = [False] * len(self.graph)\n",
    "        \n",
    "        queue = []\n",
    "        queue.append(s)\n",
    "        visited[s] = True\n",
    "        \n",
    "        while queue:\n",
    "            s = queue.pop(0)\n",
    "            \n",
    "            print (s)\n",
    "            \n",
    "            # get all the vertices of the dequeued vertex s            \n",
    "            for i in self.graph[s]:\n",
    "                if visited[i] == False:\n",
    "                    queue.append(i)\n",
    "                    visited[i] = True\n",
    "                    \n",
    "# driver code\n",
    "\n",
    "# Create a graph given in \n",
    "# the above diagram \n",
    "g = Graph() \n",
    "g.addEdge(0, 1) \n",
    "g.addEdge(0, 2) \n",
    "g.addEdge(1, 2) \n",
    "g.addEdge(2, 0) \n",
    "g.addEdge(2, 3) \n",
    "g.addEdge(3, 3) \n",
    "  \n",
    "i = 0\n",
    "print (\"Following is Breadth First Traversal\"\n",
    "                  \" (starting from vertex {})\".format(i)) \n",
    "g.BFS(i) "
   ]
  },
  {
   "cell_type": "markdown",
   "metadata": {},
   "source": [
    "### DFS"
   ]
  },
  {
   "cell_type": "code",
   "execution_count": 20,
   "metadata": {},
   "outputs": [
    {
     "name": "stdout",
     "output_type": "stream",
     "text": [
      "Following is DFS from (starting from vertex 1)\n",
      "1 2 0 3\n"
     ]
    }
   ],
   "source": [
    "from collections import defaultdict\n",
    "\n",
    "class Graph():\n",
    "    \n",
    "    def __init__(self):\n",
    "        \n",
    "        self.graph = defaultdict(list)\n",
    "        \n",
    "    def addEdge(self, u, v):\n",
    "        \n",
    "        self.graph[u].append(v)\n",
    "        \n",
    "    def DFSUtil(self, v, visited):\n",
    "        \n",
    "        # mark v as visited        \n",
    "        visited[v] = True\n",
    "        print v, \n",
    "        \n",
    "        for i in self.graph[v]:\n",
    "            if visited[i] ==False:\n",
    "                self.DFSUtil(i, visited)\n",
    "        \n",
    "    def DFS(self, v):\n",
    "        \n",
    "        visited = [False] * len(self.graph)\n",
    "        \n",
    "        return self.DFSUtil(v, visited)\n",
    "    \n",
    "g = Graph() \n",
    "g.addEdge(0, 1) \n",
    "g.addEdge(0, 2) \n",
    "g.addEdge(1, 2) \n",
    "g.addEdge(2, 0) \n",
    "g.addEdge(2, 3) \n",
    "g.addEdge(3, 3) \n",
    "  \n",
    "i = 1\n",
    "print (\"Following is DFS from (starting from vertex {})\".format(i))\n",
    "g.DFS(i) \n"
   ]
  },
  {
   "cell_type": "markdown",
   "metadata": {},
   "source": [
    "### Transitive Closure for a Graph"
   ]
  },
  {
   "cell_type": "code",
   "execution_count": 29,
   "metadata": {},
   "outputs": [
    {
     "name": "stdout",
     "output_type": "stream",
     "text": [
      "Transitive closure matrix is\n",
      "[[1, 1, 1, 1], [1, 1, 1, 1], [1, 1, 1, 1], [0, 0, 0, 1]]\n"
     ]
    }
   ],
   "source": [
    "from collections import defaultdict \n",
    "\n",
    "class Graph:\n",
    "    \n",
    "    def __init__(self, vertices):\n",
    "        \n",
    "        self.V = vertices\n",
    "        self.graph = defaultdict(list)\n",
    "        self.tc = [[0 for j in range(self.V)] for i in range(self.V)]\n",
    "        \n",
    "    def addEdge(self, u, v):       \n",
    "        self.graph[u].append(v)\n",
    "        \n",
    "    def DFSUtil(self, s, v):\n",
    "        \n",
    "        self.tc[s][v] = 1\n",
    "        \n",
    "        for i in self.graph[v]:\n",
    "            if self.tc[s][i] == 0:\n",
    "                self.DFSUtil(s,i)\n",
    "                \n",
    "    def transitiveClosure(self):\n",
    "        \n",
    "        for i in range(self.V):\n",
    "            self.DFSUtil(i, i)\n",
    "        print self.tc\n",
    "        \n",
    "# Create a graph given in the above diagram \n",
    "g = Graph(4) \n",
    "g.addEdge(0, 1) \n",
    "g.addEdge(0, 2) \n",
    "g.addEdge(1, 2) \n",
    "g.addEdge(2, 0) \n",
    "g.addEdge(2, 3) \n",
    "g.addEdge(3, 3) \n",
    "  \n",
    "print \"Transitive closure matrix is\"\n",
    "g.transitiveClosure(); \n",
    "        \n",
    "        "
   ]
  },
  {
   "cell_type": "markdown",
   "metadata": {},
   "source": [
    "### Checking if two edges are rechable from one to another"
   ]
  },
  {
   "cell_type": "code",
   "execution_count": 33,
   "metadata": {},
   "outputs": [
    {
     "ename": "TypeError",
     "evalue": "object of type 'int' has no len()",
     "output_type": "error",
     "traceback": [
      "\u001b[0;31m---------------------------------------------------------------------------\u001b[0m",
      "\u001b[0;31mTypeError\u001b[0m                                 Traceback (most recent call last)",
      "\u001b[0;32m<ipython-input-33-3828ae31de17>\u001b[0m in \u001b[0;36m<module>\u001b[0;34m()\u001b[0m\n\u001b[1;32m     41\u001b[0m \u001b[0mu\u001b[0m \u001b[0;34m=\u001b[0m\u001b[0;36m1\u001b[0m\u001b[0;34m;\u001b[0m \u001b[0mv\u001b[0m \u001b[0;34m=\u001b[0m \u001b[0;36m3\u001b[0m\u001b[0;34m\u001b[0m\u001b[0m\n\u001b[1;32m     42\u001b[0m \u001b[0;34m\u001b[0m\u001b[0m\n\u001b[0;32m---> 43\u001b[0;31m \u001b[0;32mif\u001b[0m \u001b[0mg\u001b[0m\u001b[0;34m.\u001b[0m\u001b[0misReachable\u001b[0m\u001b[0;34m(\u001b[0m\u001b[0mu\u001b[0m\u001b[0;34m,\u001b[0m \u001b[0mv\u001b[0m\u001b[0;34m)\u001b[0m\u001b[0;34m:\u001b[0m\u001b[0;34m\u001b[0m\u001b[0m\n\u001b[0m\u001b[1;32m     44\u001b[0m     \u001b[0;32mprint\u001b[0m\u001b[0;34m(\u001b[0m\u001b[0;34m\"There is a path from %d to %d\"\u001b[0m \u001b[0;34m%\u001b[0m \u001b[0;34m(\u001b[0m\u001b[0mu\u001b[0m\u001b[0;34m,\u001b[0m\u001b[0mv\u001b[0m\u001b[0;34m)\u001b[0m\u001b[0;34m)\u001b[0m\u001b[0;34m\u001b[0m\u001b[0m\n\u001b[1;32m     45\u001b[0m \u001b[0;32melse\u001b[0m \u001b[0;34m:\u001b[0m\u001b[0;34m\u001b[0m\u001b[0m\n",
      "\u001b[0;32m<ipython-input-33-3828ae31de17>\u001b[0m in \u001b[0;36misReachable\u001b[0;34m(self, u, v)\u001b[0m\n\u001b[1;32m     12\u001b[0m     \u001b[0;32mdef\u001b[0m \u001b[0misReachable\u001b[0m\u001b[0;34m(\u001b[0m\u001b[0mself\u001b[0m\u001b[0;34m,\u001b[0m \u001b[0mu\u001b[0m\u001b[0;34m,\u001b[0m\u001b[0mv\u001b[0m\u001b[0;34m)\u001b[0m\u001b[0;34m:\u001b[0m\u001b[0;34m\u001b[0m\u001b[0m\n\u001b[1;32m     13\u001b[0m \u001b[0;34m\u001b[0m\u001b[0m\n\u001b[0;32m---> 14\u001b[0;31m         \u001b[0mvisited\u001b[0m \u001b[0;34m=\u001b[0m \u001b[0;34m[\u001b[0m\u001b[0mFalse\u001b[0m\u001b[0;34m]\u001b[0m \u001b[0;34m*\u001b[0m \u001b[0mlen\u001b[0m\u001b[0;34m(\u001b[0m\u001b[0mself\u001b[0m\u001b[0;34m.\u001b[0m\u001b[0mV\u001b[0m\u001b[0;34m)\u001b[0m\u001b[0;34m\u001b[0m\u001b[0m\n\u001b[0m\u001b[1;32m     15\u001b[0m         \u001b[0mvisited\u001b[0m\u001b[0;34m[\u001b[0m\u001b[0mu\u001b[0m\u001b[0;34m]\u001b[0m \u001b[0;34m=\u001b[0m \u001b[0mTrue\u001b[0m\u001b[0;34m\u001b[0m\u001b[0m\n\u001b[1;32m     16\u001b[0m         \u001b[0mqueue\u001b[0m \u001b[0;34m=\u001b[0m \u001b[0;34m[\u001b[0m\u001b[0;34m]\u001b[0m\u001b[0;34m\u001b[0m\u001b[0m\n",
      "\u001b[0;31mTypeError\u001b[0m: object of type 'int' has no len()"
     ]
    }
   ],
   "source": [
    "class Graph:\n",
    "    \n",
    "    def __init__(self, vertices):\n",
    "        \n",
    "        self.V = vertices\n",
    "        self.graph = defaultdict(list)\n",
    "        \n",
    "    def addEdge(self, u,v):\n",
    "        self.graph[u].append(v)\n",
    "        \n",
    "        \n",
    "    def isReachable(self, u,v):\n",
    "        \n",
    "        visited = [False] * len(self.V)\n",
    "        visited[u] = True\n",
    "        queue = []\n",
    "        \n",
    "        queue.append(u)\n",
    "        \n",
    "        while queue:\n",
    "            n = queue.pop[0]\n",
    "            \n",
    "            if n == v:\n",
    "                return True\n",
    "            \n",
    "            for i in self.graph[s]:\n",
    "                if visited[i] == False:\n",
    "                    queue.append(i)\n",
    "                    visited[i] = True\n",
    "                    \n",
    "        return False\n",
    "                    \n",
    "g = Graph(4) \n",
    "g.addEdge(0, 1) \n",
    "g.addEdge(0, 2) \n",
    "g.addEdge(1, 2) \n",
    "g.addEdge(2, 0) \n",
    "g.addEdge(2, 3) \n",
    "g.addEdge(3, 3) \n",
    "  \n",
    "u =1; v = 3\n",
    "  \n",
    "if g.isReachable(u, v): \n",
    "    print(\"There is a path from %d to %d\" % (u,v)) \n",
    "else : \n",
    "    print(\"There is no path from %d to %d\" % (u,v))             "
   ]
  },
  {
   "cell_type": "code",
   "execution_count": null,
   "metadata": {
    "collapsed": true
   },
   "outputs": [],
   "source": []
  }
 ],
 "metadata": {
  "kernelspec": {
   "display_name": "Python 2",
   "language": "python",
   "name": "python2"
  },
  "language_info": {
   "codemirror_mode": {
    "name": "ipython",
    "version": 2
   },
   "file_extension": ".py",
   "mimetype": "text/x-python",
   "name": "python",
   "nbconvert_exporter": "python",
   "pygments_lexer": "ipython2",
   "version": "2.7.14"
  }
 },
 "nbformat": 4,
 "nbformat_minor": 2
}
