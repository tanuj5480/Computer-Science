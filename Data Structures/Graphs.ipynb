{
 "cells": [
  {
   "cell_type": "code",
   "execution_count": 9,
   "metadata": {},
   "outputs": [
    {
     "name": "stdout",
     "output_type": "stream",
     "text": [
      "Adjacency list of vertex 0\n",
      " head\n",
      " ->4\n",
      " ->1\n",
      " \n",
      "\n",
      "Adjacency list of vertex 1\n",
      " head\n",
      " ->4\n",
      " ->3\n",
      " ->2\n",
      " ->0\n",
      " \n",
      "\n",
      "Adjacency list of vertex 2\n",
      " head\n",
      " ->3\n",
      " ->1\n",
      " \n",
      "\n",
      "Adjacency list of vertex 3\n",
      " head\n",
      " ->4\n",
      " ->2\n",
      " ->1\n",
      " \n",
      "\n",
      "Adjacency list of vertex 4\n",
      " head\n",
      " ->3\n",
      " ->1\n",
      " ->0\n",
      " \n",
      "\n"
     ]
    }
   ],
   "source": [
    "class Node():\n",
    "    def __init__(self, data):\n",
    "        self.vertex = data\n",
    "        self.next = None\n",
    "        \n",
    "        \n",
    "class Graph():\n",
    "    def __init__(self, vertices):\n",
    "        self.V = vertices\n",
    "        self.graph = [None] * self.V\n",
    "        \n",
    "    # function to add edge to an undirected graph\n",
    "    def add_edge(self, src, dest):\n",
    "        \n",
    "        node = Node(dest)\n",
    "        node.next = self.graph[src]\n",
    "        self.graph[src] = node\n",
    "        \n",
    "        node = Node(src)\n",
    "        node.next = self.graph[dest]\n",
    "        self.graph[dest] = node\n",
    "        \n",
    "    def print_graph(self):\n",
    "        for i in range(self.V):\n",
    "            print(\"Adjacency list of vertex {}\\n head\".format(i))\n",
    "            temp = self.graph[i]\n",
    "            while temp:\n",
    "                print(\" ->{}\".format(temp.vertex))\n",
    "                temp = temp.next\n",
    "            print (\" \\n\")\n",
    "        \n",
    "        \n",
    "if __name__ == \"__main__\": \n",
    "    V = 5\n",
    "    graph = Graph(V) \n",
    "    graph.add_edge(0, 1) \n",
    "    graph.add_edge(0, 4) \n",
    "    graph.add_edge(1, 2) \n",
    "    graph.add_edge(1, 3) \n",
    "    graph.add_edge(1, 4) \n",
    "    graph.add_edge(2, 3) \n",
    "    graph.add_edge(3, 4) \n",
    "  \n",
    "    graph.print_graph() \n",
    "        "
   ]
  },
  {
   "cell_type": "markdown",
   "metadata": {},
   "source": [
    "### BFS"
   ]
  },
  {
   "cell_type": "code",
   "execution_count": 21,
   "metadata": {},
   "outputs": [
    {
     "name": "stdout",
     "output_type": "stream",
     "text": [
      "Following is Breadth First Traversal (starting from vertex 0)\n",
      "0\n",
      "1\n",
      "2\n",
      "3\n"
     ]
    }
   ],
   "source": [
    "from collections import defaultdict\n",
    "\n",
    "class Graph():\n",
    "    def __init__(self):\n",
    "        \n",
    "        # default dictionary to store graph \n",
    "        self.graph = defaultdict(list)\n",
    "        \n",
    "    # function to add an edge to graph \n",
    "    def addEdge(self, u,v):\n",
    "        \n",
    "        self.graph[u].append(v)\n",
    "        \n",
    "    def BFS(self, s):\n",
    "        visited = [False] * len(self.graph)\n",
    "        \n",
    "        queue = []\n",
    "        queue.append(s)\n",
    "        visited[s] = True\n",
    "        \n",
    "        while queue:\n",
    "            s = queue.pop(0)\n",
    "            \n",
    "            print (s)\n",
    "            \n",
    "            # get all the vertices of the dequeued vertex s            \n",
    "            for i in self.graph[s]:\n",
    "                if visited[i] == False:\n",
    "                    queue.append(i)\n",
    "                    visited[i] = True\n",
    "                    \n",
    "# driver code\n",
    "\n",
    "# Create a graph given in \n",
    "# the above diagram \n",
    "g = Graph() \n",
    "g.addEdge(0, 1) \n",
    "g.addEdge(0, 2) \n",
    "g.addEdge(1, 2) \n",
    "g.addEdge(2, 0) \n",
    "g.addEdge(2, 3) \n",
    "g.addEdge(3, 3) \n",
    "  \n",
    "i = 0\n",
    "print (\"Following is Breadth First Traversal\"\n",
    "                  \" (starting from vertex {})\".format(i)) \n",
    "g.BFS(i) "
   ]
  },
  {
   "cell_type": "markdown",
   "metadata": {},
   "source": [
    "### DFS"
   ]
  },
  {
   "cell_type": "code",
   "execution_count": 20,
   "metadata": {},
   "outputs": [
    {
     "name": "stdout",
     "output_type": "stream",
     "text": [
      "Following is DFS from (starting from vertex 1)\n",
      "1 2 0 3\n"
     ]
    }
   ],
   "source": [
    "from collections import defaultdict\n",
    "\n",
    "class Graph():\n",
    "    \n",
    "    def __init__(self):\n",
    "        \n",
    "        self.graph = defaultdict(list)\n",
    "        \n",
    "    def addEdge(self, u, v):\n",
    "        \n",
    "        self.graph[u].append(v)\n",
    "        \n",
    "    def DFSUtil(self, v, visited):\n",
    "        \n",
    "        # mark v as visited        \n",
    "        visited[v] = True\n",
    "        print v, \n",
    "        \n",
    "        for i in self.graph[v]:\n",
    "            if visited[i] ==False:\n",
    "                self.DFSUtil(i, visited)\n",
    "        \n",
    "    def DFS(self, v):\n",
    "        \n",
    "        visited = [False] * len(self.graph)\n",
    "        \n",
    "        return self.DFSUtil(v, visited)\n",
    "    \n",
    "g = Graph() \n",
    "g.addEdge(0, 1) \n",
    "g.addEdge(0, 2) \n",
    "g.addEdge(1, 2) \n",
    "g.addEdge(2, 0) \n",
    "g.addEdge(2, 3) \n",
    "g.addEdge(3, 3) \n",
    "  \n",
    "i = 1\n",
    "print (\"Following is DFS from (starting from vertex {})\".format(i))\n",
    "g.DFS(i) \n"
   ]
  },
  {
   "cell_type": "code",
   "execution_count": null,
   "metadata": {
    "collapsed": true
   },
   "outputs": [],
   "source": []
  }
 ],
 "metadata": {
  "kernelspec": {
   "display_name": "Python 2",
   "language": "python",
   "name": "python2"
  },
  "language_info": {
   "codemirror_mode": {
    "name": "ipython",
    "version": 2
   },
   "file_extension": ".py",
   "mimetype": "text/x-python",
   "name": "python",
   "nbconvert_exporter": "python",
   "pygments_lexer": "ipython2",
   "version": "2.7.14"
  }
 },
 "nbformat": 4,
 "nbformat_minor": 2
}
