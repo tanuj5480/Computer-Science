{
 "cells": [
  {
   "cell_type": "code",
   "execution_count": 4,
   "metadata": {
    "collapsed": true
   },
   "outputs": [],
   "source": [
    "class Node:\n",
    "    def __init__(self, key):\n",
    "        self.right = None\n",
    "        self.left = None\n",
    "        self.val = key\n",
    "        \n",
    "    def insert(self, elem):\n",
    "        if (self.val < elem):\n",
    "            if self.right != None:\n",
    "                self.right.insert(elem)\n",
    "            else:\n",
    "                self.right = Node(elem)\n",
    "        else:\n",
    "            if self.left != None:\n",
    "                self.left.insert(elem)\n",
    "            else:\n",
    "                self.left = Node(elem)\n",
    "            \n",
    "        \n",
    "        "
   ]
  },
  {
   "cell_type": "code",
   "execution_count": 2,
   "metadata": {
    "collapsed": true
   },
   "outputs": [],
   "source": [
    "root = Node(3)\n",
    "root.left = Node(1)\n",
    "root.right = Node(2)"
   ]
  },
  {
   "cell_type": "code",
   "execution_count": null,
   "metadata": {
    "collapsed": true
   },
   "outputs": [],
   "source": []
  }
 ],
 "metadata": {
  "kernelspec": {
   "display_name": "Python 2",
   "language": "python",
   "name": "python2"
  },
  "language_info": {
   "codemirror_mode": {
    "name": "ipython",
    "version": 2
   },
   "file_extension": ".py",
   "mimetype": "text/x-python",
   "name": "python",
   "nbconvert_exporter": "python",
   "pygments_lexer": "ipython2",
   "version": "2.7.14"
  }
 },
 "nbformat": 4,
 "nbformat_minor": 2
}
