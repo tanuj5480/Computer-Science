{
 "cells": [
  {
   "cell_type": "code",
   "execution_count": null,
   "metadata": {
    "collapsed": true
   },
   "outputs": [],
   "source": [
    "class Stack:\n",
    "    def __init__:\n",
    "        self.lst = []\n",
    "        self.max_elem = []\n",
    "        \n",
    "    def push(x):\n",
    "        self.lst.append(x)\n",
    "        \n",
    "        if x > self.max_elem[-1]:\n",
    "            self.max_elem.append(x)\n",
    "        else:\n",
    "            self.max_elem.append(x > self.max_elem[-1])\n",
    "        \n",
    "    def pop(self):\n",
    "        "
   ]
  }
 ],
 "metadata": {
  "kernelspec": {
   "display_name": "Python 2",
   "language": "python",
   "name": "python2"
  },
  "language_info": {
   "codemirror_mode": {
    "name": "ipython",
    "version": 2
   },
   "file_extension": ".py",
   "mimetype": "text/x-python",
   "name": "python",
   "nbconvert_exporter": "python",
   "pygments_lexer": "ipython2",
   "version": "2.7.14"
  }
 },
 "nbformat": 4,
 "nbformat_minor": 2
}
